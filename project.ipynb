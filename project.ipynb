{
  "nbformat": 4,
  "nbformat_minor": 0,
  "metadata": {
    "colab": {
      "name": "project.ipynb",
      "private_outputs": true,
      "provenance": [],
      "authorship_tag": "ABX9TyOLWnc2MTmc4RSRqUgQRsss",
      "include_colab_link": true
    },
    "kernelspec": {
      "name": "python3",
      "display_name": "Python 3"
    },
    "language_info": {
      "name": "python"
    }
  },
  "cells": [
    {
      "cell_type": "markdown",
      "metadata": {
        "id": "view-in-github",
        "colab_type": "text"
      },
      "source": [
        "<a href=\"https://colab.research.google.com/github/tayfununal/continuous_CNN/blob/main/project.ipynb\" target=\"_parent\"><img src=\"https://colab.research.google.com/assets/colab-badge.svg\" alt=\"Open In Colab\"/></a>"
      ]
    },
    {
      "cell_type": "markdown",
      "source": [
        "# Final Projesi\n",
        "\n",
        "Our problem is \"How to solve the differential equation with using deep methods?\n",
        "\n",
        "  Especially, we will study on 2 specific problem. These are mass-spring and simple pendulum. We will solve these problem with using 4 different tools. The tools are following:\n",
        "\n",
        "1.   Solving with neurodiffeq modüle\n",
        "2.   Solving with Runge-Kutta Method\n",
        "3.   Solving with deep euler method\n",
        "4.   Solving with hamiltonian method\n",
        "\n",
        "Let's look at the first differential equation and then simple pendulum.\n",
        "## Differential equation of mass-spring\n",
        "\n",
        "\n",
        "---\n",
        "\n",
        "\n",
        "The differential equation of mass-spring is\n",
        "\\begin{align*}\n",
        "                    F(x, t) = \\frac{d^2x}{dt^2}+x=0.\n",
        "\\end{align*}\n",
        "This equation is also second order differential equation. The initial valus of the problem is\n",
        "\\begin{align*}\n",
        "                    x(0) = 0 \\text{ and } \\frac{dx}{dt}|_{t=0} = 1.\n",
        "\\end{align*}\n",
        "\n",
        "The analytical solution is\n",
        "\n",
        "\\begin{align*}\n",
        "                    x(t) = cos(t).\n",
        "\\end{align*}\n",
        "\n",
        "\n",
        "---\n",
        "\n"
      ],
      "metadata": {
        "id": "tFmUABqJDkYt"
      }
    },
    {
      "cell_type": "markdown",
      "source": [
        "## 1) Solving mass-spring with using neurodiffeq \n",
        "\n",
        "\n",
        "---\n",
        "\n"
      ],
      "metadata": {
        "id": "WUNkEA2Vu7ki"
      }
    },
    {
      "cell_type": "code",
      "execution_count": null,
      "metadata": {
        "id": "WNejugfDDj4q"
      },
      "outputs": [],
      "source": [
        "!pip install neurodiffeq        #Firs we need to install neurodiffeq modüle\n",
        "import numpy as np\n",
        "import matplotlib.pyplot as plt\n",
        "\n",
        "\n",
        "from neurodiffeq import diff      \n",
        "from neurodiffeq.ode import solve \n",
        "from neurodiffeq.conditions import IVP "
      ]
    },
    {
      "cell_type": "code",
      "source": [
        "mass_spring = lambda u, t: diff(u, t, order=2) + u\n",
        "init_val = IVP(t_0=0.0, u_0=1.0, u_0_prime=0.0)"
      ],
      "metadata": {
        "id": "Bd7HfJ8dlsNw"
      },
      "execution_count": null,
      "outputs": []
    },
    {
      "cell_type": "code",
      "source": [
        "from neurodiffeq.monitors import Monitor1D"
      ],
      "metadata": {
        "id": "1TGlvUpSsF1s"
      },
      "execution_count": null,
      "outputs": []
    },
    {
      "cell_type": "code",
      "source": [
        "solution, _ = solve(\n",
        "    ode=mass_spring, condition=init_val, t_min=0.0, t_max=2*np.pi,\n",
        "    max_epochs=3000,\n",
        "    monitor=Monitor1D(t_min=0.0, t_max=2*np.pi, check_every=100)\n",
        ")"
      ],
      "metadata": {
        "id": "twmgmxDymMPp"
      },
      "execution_count": null,
      "outputs": []
    },
    {
      "cell_type": "code",
      "source": [
        "ts = np.linspace(0, 2*np.pi, 50)\n",
        "x_net = solution(ts, to_numpy=True)\n",
        "x_ana = np.cos(ts)\n",
        "\n",
        "plt.figure()\n",
        "plt.plot(ts, x_net, label='ANN-based solution')\n",
        "plt.plot(ts, x_ana, '.', label='analytical solution')\n",
        "plt.ylabel('x')\n",
        "plt.xlabel('t')\n",
        "plt.title('comparing solutions')\n",
        "plt.legend()\n",
        "plt.show()"
      ],
      "metadata": {
        "id": "6-Ep--gdrttI"
      },
      "execution_count": null,
      "outputs": []
    },
    {
      "cell_type": "markdown",
      "source": [
        "## 2) Solving mass-spring with using Runge-Kutta"
      ],
      "metadata": {
        "id": "yPZI_D08tXfG"
      }
    },
    {
      "cell_type": "code",
      "source": [
        ""
      ],
      "metadata": {
        "id": "q2AVwUbwtW2n"
      },
      "execution_count": null,
      "outputs": []
    }
  ]
}