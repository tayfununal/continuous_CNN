{
  "nbformat": 4,
  "nbformat_minor": 0,
  "metadata": {
    "colab": {
      "name": "project.ipynb",
      "private_outputs": true,
      "provenance": [],
      "authorship_tag": "ABX9TyOG/gauZPquMkLhNGME93Kr",
      "include_colab_link": true
    },
    "kernelspec": {
      "name": "python3",
      "display_name": "Python 3"
    },
    "language_info": {
      "name": "python"
    }
  },
  "cells": [
    {
      "cell_type": "markdown",
      "metadata": {
        "id": "view-in-github",
        "colab_type": "text"
      },
      "source": [
        "<a href=\"https://colab.research.google.com/github/tayfununal/continuous_CNN/blob/main/project.ipynb\" target=\"_parent\"><img src=\"https://colab.research.google.com/assets/colab-badge.svg\" alt=\"Open In Colab\"/></a>"
      ]
    },
    {
      "cell_type": "markdown",
      "source": [
        "# Final Projesi\n",
        "\n",
        "Our problem is \"How to solve the differential equation with using deep methods?\n",
        "\n",
        "  Especially, we will study on 2 specific problem. These are mass-spring and simple pendulum. We will solve these problem with using 4 different tools. The tools are following:\n",
        "\n",
        "1.   Solving with neurodiffeq modüle\n",
        "2.   Solving with Runge-Kutta Method\n",
        "3.   Solving with deep euler method\n",
        "4.   Solving with hamiltonian method\n",
        "\n",
        "Let's look at the differential equation of mass-spring first and then simple pendulum.\n",
        "## Differential equation of mass-spring\n",
        "\n",
        "\n",
        "---\n",
        "\n",
        "\n",
        "The differential equation of mass-spring is\n",
        "\\begin{align*}\n",
        "                    F(x, t) = \\frac{d^2x}{dt^2}+x=0.\n",
        "\\end{align*}\n",
        "This equation is also second order differential equation. The initial values of the problem are\n",
        "\\begin{align*}\n",
        "                    x(t=0) = 0 \\text{ and } \\frac{dx}{dt}|_{t=0} = 1.\n",
        "\\end{align*}\n",
        "\n",
        "The analytical solution is\n",
        "\n",
        "\\begin{align*}\n",
        "                    x(t) = sin(t).\n",
        "\\end{align*}\n",
        "\n",
        "\n",
        "---\n",
        "\n"
      ],
      "metadata": {
        "id": "tFmUABqJDkYt"
      }
    },
    {
      "cell_type": "markdown",
      "source": [
        "## 1) Solving mass-spring with using neurodiffeq \n",
        "\n",
        "\n",
        "---\n",
        "\n"
      ],
      "metadata": {
        "id": "WUNkEA2Vu7ki"
      }
    },
    {
      "cell_type": "code",
      "execution_count": null,
      "metadata": {
        "id": "WNejugfDDj4q"
      },
      "outputs": [],
      "source": [
        "!pip install neurodiffeq        #Firs we need to install neurodiffeq modüle\n",
        "import numpy as np\n",
        "import matplotlib.pyplot as plt\n",
        "\n",
        "\n",
        "from neurodiffeq import diff      \n",
        "from neurodiffeq.ode import solve \n",
        "from neurodiffeq.conditions import IVP "
      ]
    },
    {
      "cell_type": "code",
      "source": [
        "mass_spring = lambda u, t: diff(u, t, order=2) + u\n",
        "init_val = IVP(t_0=0.0, u_0=0.0, u_0_prime=1.0)"
      ],
      "metadata": {
        "id": "Bd7HfJ8dlsNw"
      },
      "execution_count": null,
      "outputs": []
    },
    {
      "cell_type": "code",
      "source": [
        "from neurodiffeq.monitors import Monitor1D"
      ],
      "metadata": {
        "id": "1TGlvUpSsF1s"
      },
      "execution_count": null,
      "outputs": []
    },
    {
      "cell_type": "code",
      "source": [
        "solution, _ = solve(\n",
        "    ode=mass_spring, condition=init_val, t_min=0.0, t_max=2*np.pi,\n",
        "    max_epochs=3000,\n",
        "    monitor=Monitor1D(t_min=0.0, t_max=2*np.pi, check_every=100)\n",
        ")"
      ],
      "metadata": {
        "id": "twmgmxDymMPp"
      },
      "execution_count": null,
      "outputs": []
    },
    {
      "cell_type": "code",
      "source": [
        "ts = np.linspace(0, 2*np.pi, 50)\n",
        "x_net = solution(ts, to_numpy=True)\n",
        "x_ana = np.sin(ts)\n",
        "\n",
        "plt.figure()\n",
        "plt.plot(ts, x_net, label='ANN-based solution')\n",
        "plt.plot(ts, x_ana, '.', label='analytical solution')\n",
        "plt.ylabel('x')\n",
        "plt.xlabel('t')\n",
        "plt.title('comparing solutions')\n",
        "plt.legend()\n",
        "plt.show()"
      ],
      "metadata": {
        "id": "6-Ep--gdrttI"
      },
      "execution_count": null,
      "outputs": []
    },
    {
      "cell_type": "markdown",
      "source": [
        "## 2) Solving mass-spring with using Runge-Kutta\n",
        "\n",
        "\n",
        "---\n",
        "\n"
      ],
      "metadata": {
        "id": "yPZI_D08tXfG"
      }
    },
    {
      "cell_type": "markdown",
      "source": [
        "Our differential equation was\n",
        "\\begin{align*}\n",
        "                    F(x, t) = \\frac{d^2x}{dt^2}+x=0.\n",
        "\\end{align*}\n",
        "Here, we need to reduce the order of differential equation. For this purpose,\n",
        "\n",
        "\\begin{align*}\n",
        "                    \\text{if }z(t) = x'(t) \\text{ then } z'(t) = x''(t).\n",
        "\\end{align*}\n",
        "\n",
        "As a result, we have 2 equations.\n",
        "\n",
        "\\begin{cases}\n",
        "                    x'(t) = z(t) \\\\\n",
        "                    z'(t) = - x(t)\n",
        "\\end{cases}\n",
        "\n",
        "Vectorially,  if  $y(t)=[x(t), z(t)]$ , then the equation is  $y′(t)=f(t,y)$  where $f(t,y) = [z(t), -x(t)]$.\n",
        "\n",
        "The analytical solutions are\n",
        "\\begin{cases}\n",
        "                    x(t) = sin(t) \\\\\n",
        "                    z(t) = cos(t)\n",
        "\\end{cases}"
      ],
      "metadata": {
        "id": "nXL0peONgXGK"
      }
    },
    {
      "cell_type": "code",
      "source": [
        "from scipy.integrate import odeint # odeint module has Runge-kutta methods\n",
        "import numpy as np\n",
        "import matplotlib.pyplot as plt"
      ],
      "metadata": {
        "id": "q2AVwUbwtW2n"
      },
      "execution_count": null,
      "outputs": []
    },
    {
      "cell_type": "code",
      "source": [
        "def mass_spring(y, t):\n",
        "    return np.array([y[1], -y[0]])\n",
        "\n",
        "y0 = np.array([0 , 1.0])\n",
        "\n",
        "t = np.linspace(0, 2*np.pi, 51)\n",
        "\n",
        "sol = odeint(mass_spring, y0, t)"
      ],
      "metadata": {
        "id": "NVEvzPhtewDK"
      },
      "execution_count": null,
      "outputs": []
    },
    {
      "cell_type": "code",
      "source": [
        "plt.plot(t, sol[:, 0], 'b', label=r'x(t)')\n",
        "plt.scatter(t, np.sin(t), c='b', label=r' analytical solution of x(t)')\n",
        "\n",
        "plt.plot(t, sol[:, 1], 'g', label=r'z(t)')\n",
        "plt.scatter(t, np.cos(t), c='g', label=r'analytical solution of z(t)')\n",
        "\n",
        "plt.legend(loc='best')\n",
        "plt.xlabel('t')\n",
        "plt.grid()\n",
        "plt.show()"
      ],
      "metadata": {
        "id": "a0vBvNKxe5Ix"
      },
      "execution_count": null,
      "outputs": []
    },
    {
      "cell_type": "markdown",
      "source": [
        "## 3) Solving mass-spring with using Deep Euler Method\n",
        "\n",
        "\n",
        "---\n",
        "\n"
      ],
      "metadata": {
        "id": "yHEl5ClL1Nfd"
      }
    },
    {
      "cell_type": "code",
      "source": [
        "# Install tfdiffeq if not already installed\n",
        "!pip install --upgrade -q git+https://github.com/titu1994/tfdiffeq.git"
      ],
      "metadata": {
        "id": "jYdt6bcNxI17"
      },
      "execution_count": null,
      "outputs": []
    },
    {
      "cell_type": "code",
      "source": [
        "import tensorflow as tf\n",
        "tf.keras.backend.set_floatx(\"float64\")\n",
        "from tfdiffeq import odeint, plot_results\n",
        "from tfdiffeq.hyper_solvers import HyperEuler\n",
        "%matplotlib inline\n",
        "import matplotlib.pyplot as plt\n",
        "import numpy as np\n",
        "\n",
        "tf.executing_eagerly()"
      ],
      "metadata": {
        "id": "xOE2NDphxJUB"
      },
      "execution_count": null,
      "outputs": []
    },
    {
      "cell_type": "code",
      "source": [
        "class HyperSolverModule(tf.keras.Model):\n",
        "  def __init__(self, func_input_dim, hidden_dim=64):\n",
        "    super().__init__(dtype='float64')\n",
        "    self.func_input_dim = func_input_dim\n",
        "    \n",
        "    # Input dim isnt used (Keras handled it automatically)\n",
        "    # But for illustration purposes, it is provided\n",
        "    # Computed as ~ dim(y) + dim(dy) + 1 (for time axis)\n",
        "    self.input_dim = 2 * func_input_dim + 1\n",
        "    self.hidden_dim = hidden_dim\n",
        "    self.output_dim = func_input_dim\n",
        "\n",
        "    self.g = tf.keras.Sequential([\n",
        "        tf.keras.layers.Dense(self.hidden_dim),\n",
        "        tf.keras.layers.PReLU(),\n",
        "        tf.keras.layers.Dense(self.hidden_dim),\n",
        "        tf.keras.layers.PReLU(),\n",
        "        tf.keras.layers.Dense(self.hidden_dim),\n",
        "        tf.keras.layers.PReLU(),\n",
        "        tf.keras.layers.Dense(self.output_dim)\n",
        "    ])\n",
        "    \n",
        "  @tf.function\n",
        "  def call(self, x):\n",
        "    return self.g(x)"
      ],
      "metadata": {
        "id": "uIluZWBBxJWk"
      },
      "execution_count": null,
      "outputs": []
    },
    {
      "cell_type": "code",
      "source": [
        "def mass_spring(t, y0):\n",
        "\n",
        "  if len(y0.shape) == 1:\n",
        "    dy_dt = tf.convert_to_tensor([float(y0[1]), -float(y0[0])], dtype=tf.float64)\n",
        "    return dy_dt\n",
        "  else:\n",
        "    dy_dt = tf.convert_to_tensor([float(y0[0,1]), -float(y0[0,0])], dtype=tf.float64)\n",
        "    return tf.expand_dims(dy_dt, axis=0)"
      ],
      "metadata": {
        "id": "lOF7cN34xJZP"
      },
      "execution_count": null,
      "outputs": []
    },
    {
      "cell_type": "code",
      "source": [
        "import math\n",
        "t = tf.range(0.0, 2*math.pi, 0.01, dtype=tf.float64)\n",
        "initial_states = tf.convert_to_tensor([0.0, 1.0], dtype=tf.float64)"
      ],
      "metadata": {
        "id": "aXdbGcmnxJb_"
      },
      "execution_count": null,
      "outputs": []
    },
    {
      "cell_type": "code",
      "source": [
        "%%time\n",
        "\n",
        "with tf.device('cpu'):\n",
        "    result = odeint(mass_spring, initial_states, t, rtol=1e-8, atol=1e-8)\n",
        "print(\"Finished integrating ! Result shape : \", result.shape)"
      ],
      "metadata": {
        "id": "pfj0T_BZxJeq"
      },
      "execution_count": null,
      "outputs": []
    },
    {
      "cell_type": "code",
      "source": [
        "plot_results(t, result, labels=['t', 'y'], dependent_vars=True, figsize=(8, 8))\n",
        "plt.title('mass-spring')"
      ],
      "metadata": {
        "id": "bg8wWTK-xJg5"
      },
      "execution_count": null,
      "outputs": []
    },
    {
      "cell_type": "code",
      "source": [
        "f = mass_spring\n",
        "g = HyperSolverModule(func_input_dim=2, hidden_dim=64)\n",
        "hyper_euler = HyperEuler(f, g)"
      ],
      "metadata": {
        "id": "5gMiqV44xJjW"
      },
      "execution_count": null,
      "outputs": []
    },
    {
      "cell_type": "code",
      "source": [
        "epochs = 20\n",
        "batch_size = 16\n",
        "pretrain_batches = 100"
      ],
      "metadata": {
        "id": "lUmhyp9RxJlt"
      },
      "execution_count": null,
      "outputs": []
    },
    {
      "cell_type": "code",
      "source": [
        "%%time\n",
        "pretrain_batch_data = result[:batch_size, :]\n",
        "\n",
        "optim = tf.keras.optimizers.Adam(learning_rate=0.01)\n",
        "\n",
        "for idx in range(pretrain_batches):\n",
        "    with tf.GradientTape() as tape:\n",
        "        print(hyper_euler.trajectory(t[:batch_size], initial_states[None, :]))\n",
        "        output = hyper_euler.trajectory(t[:batch_size], initial_states[None, :])  # SHAPE = [batch_size, 1, 2]\n",
        "        output = tf.reshape(output, (output.shape[0], -1))  # SHAPE = [batch_size, 2]\n",
        "\n",
        "        loss = tf.reduce_sum((result[:batch_size] - output) ** 2)\n",
        "\n",
        "    grads = tape.gradient(loss, hyper_euler.trainable_variables)\n",
        "    optim.apply_gradients(zip(grads, hyper_euler.trainable_variables))\n",
        "        \n",
        "    if (idx + 1) % 10 == 0:\n",
        "        print(f\"Batch {idx + 1}: Loss = {loss.numpy()}\")"
      ],
      "metadata": {
        "id": "tgTRIKtzxJpX"
      },
      "execution_count": null,
      "outputs": []
    },
    {
      "cell_type": "code",
      "source": [
        "%%time \n",
        "num_samples = len(result)\n",
        "\n",
        "sched = tf.keras.experimental.CosineDecay(0.01, decay_steps=num_samples * epochs // batch_size, alpha=1e-4)\n",
        "optim = tf.keras.optimizers.Adam(learning_rate=sched, clipnorm=10.0)\n",
        "\n",
        "\n",
        "def train_step(model, t, init_state, y, optimizer):\n",
        "    with tf.GradientTape() as tape:        \n",
        "        predictions = hyper_euler.trajectory(t, init_state)  # SHAPE = [batch_size, 1, 2]\n",
        "        predictions = tf.reshape(predictions, (predictions.shape[0], -1))  # SHAPE = [batch_size, 2]\n",
        "\n",
        "        loss = tf.reduce_sum((y - predictions) ** 2)\n",
        "    \n",
        "    grads = tape.gradient(loss, model.trainable_variables)\n",
        "    optimizer.apply_gradients(zip(grads, model.trainable_variables))\n",
        "    \n",
        "    return loss, predictions\n",
        "    \n",
        "\n",
        "global_steps = 0\n",
        "for epoch in range(epochs):\n",
        "  batch_idx = 0\n",
        "  step = 1\n",
        "  losses = []\n",
        "\n",
        "  init_state = initial_states[None, :]\n",
        "\n",
        "  while batch_idx < num_samples:    \n",
        "    begin_idx = batch_idx\n",
        "    end_idx = batch_idx + batch_size\n",
        "\n",
        "    ground_samples = result[begin_idx: end_idx, :]\n",
        "    t_samples = t[begin_idx: end_idx]\n",
        "    init_state = ground_samples[0][None, :]\n",
        "    \n",
        "    loss, predictions = train_step(hyper_euler, t_samples, init_state, ground_samples, optim)\n",
        "\n",
        "    losses.append(loss)\n",
        "    \n",
        "    lr = sched(global_steps)\n",
        "\n",
        "    step += 1\n",
        "    global_steps += 1\n",
        "    batch_idx += batch_size\n",
        "\n",
        "    if step % 20 == 0:\n",
        "      print(f\"Epoch {epoch + 1}, Step {step}: Loss = {loss.numpy()} | LR = {lr.numpy()}\")\n",
        "\n",
        "  average_loss = tf.reduce_mean(tf.stack(losses))\n",
        "  print(f\"End of epoch {epoch + 1}: Average loss = {average_loss.numpy()}\")\n",
        "  print()"
      ],
      "metadata": {
        "id": "mDRF9OS3xt0u"
      },
      "execution_count": null,
      "outputs": []
    },
    {
      "cell_type": "code",
      "source": [
        "def predict():\n",
        "    with tf.device('cpu'):\n",
        "        init_state = initial_states[None, :]  # [[0.0, 1.0,]\n",
        "\n",
        "        predictions = hyper_euler.trajectory(t, init_state)  # SHAPE = [batch_size, 1, 2]\n",
        "        predictions = tf.reshape(predictions, (predictions.shape[0], -1))  # SHAPE = [batch_size, 2]\n",
        "    \n",
        "    return predictions"
      ],
      "metadata": {
        "id": "g2I1y3qRxt4S"
      },
      "execution_count": null,
      "outputs": []
    },
    {
      "cell_type": "code",
      "source": [
        "%%time\n",
        "\n",
        "predictions = predict()"
      ],
      "metadata": {
        "id": "YC4SwTJQxuDx"
      },
      "execution_count": null,
      "outputs": []
    },
    {
      "cell_type": "code",
      "source": [
        "plot_results(t, predictions, labels=['t', 'y',], dependent_vars=True, figsize=(8, 8))\n",
        "plt.title('mass-spring')\n",
        "\n",
        "plot_results(t, result, labels=['t', 'y',], dependent_vars=True, figsize=(8, 8))\n",
        "plt.title('mass-spring (Ground Truth)')"
      ],
      "metadata": {
        "id": "GohkXD-exuHV"
      },
      "execution_count": null,
      "outputs": []
    },
    {
      "cell_type": "markdown",
      "source": [
        "## Differential equation of simple pendulum\n",
        "\n",
        "\n",
        "---\n",
        "\n",
        "\n",
        "The differential equation of simple pendulum is\n",
        "\\begin{align*}\n",
        "                    F(\\theta, t) = \\frac{d^2\\theta}{dt^2}+sin(\\theta)=0.\n",
        "\\end{align*}\n",
        "This equation is also second order differential equation. The initial values of the problem are\n",
        "\\begin{align*}\n",
        "                    t_0 = 0\\text{ , }\\theta_0 = 0.5 \\text{ and } \\frac{d\\theta}{dt}|_{t=0} = 0.\n",
        "\\end{align*}\n",
        "\n",
        "The analytical solution is\n",
        "\n",
        "\\begin{align*}\n",
        "                    \\theta(t) = \\theta_0 cos(t).\n",
        "\\end{align*}\n",
        "\n",
        "\n",
        "---\n",
        "\n"
      ],
      "metadata": {
        "id": "IYfKvL5lQrrv"
      }
    },
    {
      "cell_type": "markdown",
      "source": [
        "## 1) Solving simple pendulum with using neurodiffeq \n",
        "\n",
        "\n",
        "---\n",
        "\n"
      ],
      "metadata": {
        "id": "XqtvmZfzYbTn"
      }
    },
    {
      "cell_type": "code",
      "source": [
        "!pip install neurodiffeq        #Firs we need to install neurodiffeq modüle\n",
        "import numpy as np\n",
        "import matplotlib.pyplot as plt\n",
        "\n",
        "\n",
        "from neurodiffeq import diff      \n",
        "from neurodiffeq.ode import solve \n",
        "from neurodiffeq.conditions import IVP "
      ],
      "metadata": {
        "id": "NLOCQy6HYe2I"
      },
      "execution_count": null,
      "outputs": []
    },
    {
      "cell_type": "code",
      "source": [
        "import torch\n",
        "simple_pendulum = lambda u, t: diff(u, t, order=2) + torch.sin(u)\n",
        "init_val = IVP(t_0=0.0, u_0=0.5, u_0_prime=0.0)"
      ],
      "metadata": {
        "id": "EzZkqv-sYkku"
      },
      "execution_count": null,
      "outputs": []
    },
    {
      "cell_type": "code",
      "source": [
        "from neurodiffeq.monitors import Monitor1D"
      ],
      "metadata": {
        "id": "IQaPWeaiYmsn"
      },
      "execution_count": null,
      "outputs": []
    },
    {
      "cell_type": "code",
      "source": [
        "solution, _ = solve(\n",
        "    ode=simple_pendulum, condition=init_val, t_min=0.0, t_max=2*np.pi,\n",
        "    max_epochs=3000,\n",
        "    monitor=Monitor1D(t_min=0.0, t_max=2*np.pi, check_every=100)\n",
        ")"
      ],
      "metadata": {
        "id": "Vz-uyicMYpLO"
      },
      "execution_count": null,
      "outputs": []
    },
    {
      "cell_type": "code",
      "source": [
        "ts = np.linspace(0, 2*np.pi, 50)\n",
        "x_net = solution(ts, to_numpy=True)\n",
        "x_ana = 0.5*np.cos(ts)\n",
        "\n",
        "plt.figure()\n",
        "plt.plot(ts, x_net, label='ANN-based solution')\n",
        "plt.plot(ts, x_ana, '.', label='analytical solution')\n",
        "plt.ylabel(r'$\\theta$')\n",
        "plt.xlabel('t')\n",
        "plt.title('comparing solutions')\n",
        "plt.legend()\n",
        "plt.show()"
      ],
      "metadata": {
        "id": "RABso_QgYre3"
      },
      "execution_count": null,
      "outputs": []
    },
    {
      "cell_type": "markdown",
      "source": [
        "## 2) Solving simple pendulum with using Runge-Kutta\n",
        "\n",
        "\n",
        "---\n"
      ],
      "metadata": {
        "id": "OACulwylDyq9"
      }
    },
    {
      "cell_type": "markdown",
      "source": [
        "Our differential equation was\n",
        "\\begin{align*}\n",
        "                    F(\\theta, t) = \\frac{d^2\\theta}{dt^2}+sin(\\theta)=0.\n",
        "\\end{align*}\n",
        "Here, we need to reduce the order of differential equation. For this purpose,\n",
        "\n",
        "\\begin{align*}\n",
        "                    \\text{if }z(t) = \\theta'(t) \\text{ then } z'(t) = \\theta''(t).\n",
        "\\end{align*}\n",
        "\n",
        "As a result, we have 2 equations.\n",
        "\n",
        "\\begin{cases}\n",
        "                    \\theta'(t) = z(t) \\\\\n",
        "                    z'(t) = - sin(\\theta)\n",
        "\\end{cases}\n",
        "\n",
        "Vectorially,  if  $y(t)=[\\theta(t), z(t)]$ , then the equation is  $y′(t)=f(t,y)$  where $f(t,y) = [z(t), -sin(\\theta)]$.\n",
        "\n",
        "The analytical solutions are\n",
        "\\begin{cases}\n",
        "                    \\theta(t) = sin(t) \\\\\n",
        "                    z(t) = cos(t)\n",
        "\\end{cases}"
      ],
      "metadata": {
        "id": "aV0dWK9sD2im"
      }
    },
    {
      "cell_type": "code",
      "source": [
        "from scipy.integrate import odeint # odeint module has Runge-kutta methods\n",
        "import numpy as np\n",
        "import matplotlib.pyplot as plt"
      ],
      "metadata": {
        "id": "MAP3HJ_2Gx_t"
      },
      "execution_count": null,
      "outputs": []
    },
    {
      "cell_type": "code",
      "source": [
        "def simple_pendulum(y, t):\n",
        "    return np.array([y[1], -np.sin(t)])\n",
        "\n",
        "y0 = np.array([0 , 1.0])\n",
        "\n",
        "t = np.linspace(0, 2*np.pi, 51)\n",
        "\n",
        "sol = odeint(simple_pendulum, y0, t)"
      ],
      "metadata": {
        "id": "nUvKRR8kG25t"
      },
      "execution_count": null,
      "outputs": []
    },
    {
      "cell_type": "code",
      "source": [
        "plt.plot(t, sol[:, 0], 'b', label=r'$\\theta$(t)')\n",
        "plt.scatter(t, np.sin(t), c='b', label=r' analytical solution of $\\theta$(t)')\n",
        "\n",
        "plt.plot(t, sol[:, 1], 'g', label=r'z(t)')\n",
        "plt.scatter(t, np.cos(t), c='g', label=r'analytical solution of z(t)')\n",
        "\n",
        "plt.legend(loc='best')\n",
        "plt.xlabel('t')\n",
        "plt.grid()\n",
        "plt.show()"
      ],
      "metadata": {
        "id": "DxmhPKe_G6iD"
      },
      "execution_count": null,
      "outputs": []
    }
  ]
}