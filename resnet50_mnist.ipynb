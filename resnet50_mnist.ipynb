{
  "nbformat": 4,
  "nbformat_minor": 0,
  "metadata": {
    "colab": {
      "name": "resnet50_mnist.ipynb",
      "private_outputs": true,
      "provenance": [],
      "authorship_tag": "ABX9TyMNbL3269EMSUq4CVmrUHVV",
      "include_colab_link": true
    },
    "kernelspec": {
      "name": "python3",
      "display_name": "Python 3"
    },
    "language_info": {
      "name": "python"
    },
    "accelerator": "GPU"
  },
  "cells": [
    {
      "cell_type": "markdown",
      "metadata": {
        "id": "view-in-github",
        "colab_type": "text"
      },
      "source": [
        "<a href=\"https://colab.research.google.com/github/tayfununal/continuous_CNN/blob/main/resnet50_mnist.ipynb\" target=\"_parent\"><img src=\"https://colab.research.google.com/assets/colab-badge.svg\" alt=\"Open In Colab\"/></a>"
      ]
    },
    {
      "cell_type": "code",
      "metadata": {
        "id": "hGufB3FRlnxR"
      },
      "source": [
        "import tensorflow as tf \n",
        "import numpy as np \n",
        "\n",
        "(x_train, y_train), (x_test, y_test) = tf.keras.datasets.mnist.load_data()\n",
        "\n",
        "# expand new axis, channel axis \n",
        "x_train = np.expand_dims(x_train, axis=-1)\n",
        "x_test = np.expand_dims(x_test, axis=-1)\n",
        "\n",
        "# [optional]: we may need 3 channel (instead of 1)\n",
        "x_train = np.repeat(x_train, 3, axis=-1)\n",
        "x_test = np.repeat(x_test, 3, axis=-1)\n",
        "\n",
        "# it's always better to normalize \n",
        "x_train = x_train.astype('float32') / 255\n",
        "x_test = x_test.astype('float32') / 255\n",
        "\n",
        "# resize the input shape , i.e. old shape: 28, new shape: 32\n",
        "x_train = tf.image.resize(x_train, [32,32]) # if we want to resize \n",
        "x_test = tf.image.resize(x_test, [32,32]) # if we want to resize \n",
        "\n",
        "# one hot \n",
        "y_train = tf.keras.utils.to_categorical(y_train , num_classes=10)\n",
        "y_test = tf.keras.utils.to_categorical(y_test , num_classes=10)\n",
        "\n",
        "print(x_train.shape, y_train.shape, x_test.shape, y_test.shape)"
      ],
      "execution_count": null,
      "outputs": []
    },
    {
      "cell_type": "code",
      "metadata": {
        "id": "18HqvyLBl5br"
      },
      "source": [
        "np.random.seed(8)\n",
        "tf.random.set_seed(8)\n",
        "\n",
        "input = tf.keras.Input(shape=(32,32,3))\n",
        "efnet = tf.keras.applications.ResNet50(weights='imagenet',\n",
        "                                             include_top = False, \n",
        "                                             input_tensor = input)\n",
        "# Now that we apply global max pooling.\n",
        "gap = tf.keras.layers.GlobalMaxPooling2D()(efnet.output)\n",
        "\n",
        "# Finally, we add a classification layer.\n",
        "output = tf.keras.layers.Dense(10, activation='softmax', use_bias=True)(gap)\n",
        "\n",
        "# bind all\n",
        "func_model = tf.keras.Model(efnet.input, output)"
      ],
      "execution_count": null,
      "outputs": []
    },
    {
      "cell_type": "code",
      "metadata": {
        "id": "JvwB4oxPmD2d"
      },
      "source": [
        "func_model.compile(\n",
        "          loss  = tf.keras.losses.CategoricalCrossentropy(),\n",
        "          metrics = tf.keras.metrics.CategoricalAccuracy(),\n",
        "          optimizer = tf.keras.optimizers.Adam())\n",
        "# fit \n",
        "func_model.fit(x_train, y_train, batch_size=128, epochs=5, verbose = 2)"
      ],
      "execution_count": null,
      "outputs": []
    },
    {
      "cell_type": "code",
      "metadata": {
        "id": "IncSZWsupFOm"
      },
      "source": [
        "predictions = func_model.predict(x_test)\n",
        "print(predictions[0])"
      ],
      "execution_count": null,
      "outputs": []
    },
    {
      "cell_type": "code",
      "metadata": {
        "id": "SFe6gak4uNB9"
      },
      "source": [
        "func_model.evaluate(x_test,  y_test, batch_size=10000, verbose=1)"
      ],
      "execution_count": null,
      "outputs": []
    },
    {
      "cell_type": "code",
      "metadata": {
        "id": "O_2y_3P-2jtD"
      },
      "source": [
        "import matplotlib.pyplot as plt\n",
        "\n",
        "fig, ax = plt.subplots(4, 12, figsize=(30, 14))  # 4 = row , 12= column , 30 = horizontal size , 14 = vertical size\n",
        "\n",
        "for i in range(0,4):\n",
        "  for j in range(0,12):\n",
        "    random_int = np.random.randint(1,2000,1)\n",
        "    ax[i][j].imshow(x_test[int(random_int)], cmap=plt.cm.binary)\n",
        "    ax[i][j].set_title(\"Value : {} \\nPredicted Value : {}\".format(int(np.where(y_test[random_int])[1]),np.argmax(predictions[random_int])))\n",
        "\n",
        "plt.show()"
      ],
      "execution_count": null,
      "outputs": []
    },
    {
      "cell_type": "code",
      "metadata": {
        "id": "bO2O5xPu25VM"
      },
      "source": [
        ""
      ],
      "execution_count": null,
      "outputs": []
    }
  ]
}