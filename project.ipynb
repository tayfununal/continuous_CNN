{
  "nbformat": 4,
  "nbformat_minor": 0,
  "metadata": {
    "colab": {
      "name": "project.ipynb",
      "private_outputs": true,
      "provenance": [],
      "authorship_tag": "ABX9TyPhJhuYV768pWNODTKEhcBk",
      "include_colab_link": true
    },
    "kernelspec": {
      "name": "python3",
      "display_name": "Python 3"
    },
    "language_info": {
      "name": "python"
    }
  },
  "cells": [
    {
      "cell_type": "markdown",
      "metadata": {
        "id": "view-in-github",
        "colab_type": "text"
      },
      "source": [
        "<a href=\"https://colab.research.google.com/github/tayfununal/continuous_CNN/blob/main/project.ipynb\" target=\"_parent\"><img src=\"https://colab.research.google.com/assets/colab-badge.svg\" alt=\"Open In Colab\"/></a>"
      ]
    },
    {
      "cell_type": "markdown",
      "source": [
        "# Final Projesi\n",
        "\n",
        "Our problem is \"How to solve the differential equation with using deep methods?\n",
        "\n",
        "  Especially, we will study on 2 specific problem. These are mass-spring and simple pendulum. We will solve these problem with using 4 different tools. The tools are following:\n",
        "\n",
        "1.   Solving with neurodiffeq modüle\n",
        "2.   Solving with Runge-Kutta Method\n",
        "3.   Solving with deep euler method\n",
        "4.   Solving with hamiltonian method\n",
        "\n",
        "Let's look at the differential equation of mass-spring first and then simple pendulum.\n",
        "## Differential equation of mass-spring\n",
        "\n",
        "\n",
        "---\n",
        "\n",
        "\n",
        "The differential equation of mass-spring is\n",
        "\\begin{align*}\n",
        "                    F(x, t) = \\frac{d^2x}{dt^2}+x=0.\n",
        "\\end{align*}\n",
        "This equation is also second order differential equation. The initial values of the problem are\n",
        "\\begin{align*}\n",
        "                    x(t=0) = 0 \\text{ and } \\frac{dx}{dt}|_{t=0} = 1.\n",
        "\\end{align*}\n",
        "\n",
        "The analytical solution is\n",
        "\n",
        "\\begin{align*}\n",
        "                    x(t) = sin(t).\n",
        "\\end{align*}\n",
        "\n",
        "\n",
        "---\n",
        "\n"
      ],
      "metadata": {
        "id": "tFmUABqJDkYt"
      }
    },
    {
      "cell_type": "markdown",
      "source": [
        "## 1) Solving mass-spring with using neurodiffeq \n",
        "\n",
        "\n",
        "---\n",
        "\n"
      ],
      "metadata": {
        "id": "WUNkEA2Vu7ki"
      }
    },
    {
      "cell_type": "code",
      "execution_count": null,
      "metadata": {
        "id": "WNejugfDDj4q"
      },
      "outputs": [],
      "source": [
        "%matplotlib inline\n",
        "!pip install neurodiffeq        #Firs we need to install neurodiffeq modüle\n",
        "import numpy as np\n",
        "import matplotlib.pyplot as plt\n",
        "\n",
        "\n",
        "from neurodiffeq import diff      \n",
        "from neurodiffeq.ode import solve \n",
        "from neurodiffeq.conditions import IVP "
      ]
    },
    {
      "cell_type": "code",
      "source": [
        "mass_spring = lambda u, t: diff(u, t, order=2) + u\n",
        "init_val = IVP(t_0=0.0, u_0=0.0, u_0_prime=1.0)"
      ],
      "metadata": {
        "id": "Bd7HfJ8dlsNw"
      },
      "execution_count": null,
      "outputs": []
    },
    {
      "cell_type": "code",
      "source": [
        "from neurodiffeq.monitors import Monitor1D"
      ],
      "metadata": {
        "id": "1TGlvUpSsF1s"
      },
      "execution_count": null,
      "outputs": []
    },
    {
      "cell_type": "code",
      "source": [
        "solution, _ = solve(\n",
        "    ode=mass_spring, condition=init_val, t_min=0.0, t_max=2*np.pi,\n",
        "    max_epochs=3000,\n",
        "    monitor=Monitor1D(t_min=0.0, t_max=2*np.pi, check_every=100)\n",
        ")"
      ],
      "metadata": {
        "id": "twmgmxDymMPp"
      },
      "execution_count": null,
      "outputs": []
    },
    {
      "cell_type": "code",
      "source": [
        "ts = np.linspace(0, 2*np.pi, 50)\n",
        "x_net = solution(ts, to_numpy=True)\n",
        "x_ana = np.sin(ts)\n",
        "\n",
        "plt.figure()\n",
        "plt.plot(ts, x_net, label='ANN-based solution')\n",
        "plt.plot(ts, x_ana, '.', label='analytical solution')\n",
        "plt.ylabel('x')\n",
        "plt.xlabel('t')\n",
        "plt.title('comparing solutions')\n",
        "plt.legend()\n",
        "plt.show()"
      ],
      "metadata": {
        "id": "6-Ep--gdrttI"
      },
      "execution_count": null,
      "outputs": []
    },
    {
      "cell_type": "markdown",
      "source": [
        "## 2) Solving mass-spring with using Runge-Kutta\n",
        "\n",
        "\n",
        "---\n",
        "\n"
      ],
      "metadata": {
        "id": "yPZI_D08tXfG"
      }
    },
    {
      "cell_type": "markdown",
      "source": [
        "Our differential equation was\n",
        "\\begin{align*}\n",
        "                    F(x, t) = \\frac{d^2x}{dt^2}+x=0.\n",
        "\\end{align*}\n",
        "Here, we need to reduce the order of differential equation. For this purpose,\n",
        "\n",
        "\\begin{align*}\n",
        "                    \\text{if }z(t) = x'(t) \\text{ then } z'(t) = x''(t).\n",
        "\\end{align*}\n",
        "\n",
        "As a result, we have 2 equations.\n",
        "\n",
        "\\begin{cases}\n",
        "                    x'(t) = z(t) \\\\\n",
        "                    z'(t) = - x(t)\n",
        "\\end{cases}\n",
        "\n",
        "Vectorially,  if  $y(t)=[x(t), z(t)]$ , then the equation is  $y′(t)=f(t,y)$  where $f(t,y) = [z(t), -x(t)]$.\n",
        "\n",
        "The analytical solutions are\n",
        "\\begin{cases}\n",
        "                    x(t) = sin(t) \\\\\n",
        "                    z(t) = cos(t)\n",
        "\\end{cases}"
      ],
      "metadata": {
        "id": "nXL0peONgXGK"
      }
    },
    {
      "cell_type": "code",
      "source": [
        "from scipy.integrate import odeint # odeint module has Runge-kutta methods\n",
        "import numpy as np\n",
        "import matplotlib.pyplot as plt"
      ],
      "metadata": {
        "id": "q2AVwUbwtW2n"
      },
      "execution_count": null,
      "outputs": []
    },
    {
      "cell_type": "code",
      "source": [
        "def mass_spring(y, t):\n",
        "    return np.array([y[1], -y[0]])\n",
        "\n",
        "y0 = np.array([0 , 1.0])\n",
        "\n",
        "t = np.linspace(0, 2*np.pi, 51)\n",
        "\n",
        "sol = odeint(mass_spring, y0, t)"
      ],
      "metadata": {
        "id": "NVEvzPhtewDK"
      },
      "execution_count": null,
      "outputs": []
    },
    {
      "cell_type": "code",
      "source": [
        "plt.plot(t, sol[:, 0], 'b', label=r'x(t)')\n",
        "plt.scatter(t, np.sin(t), c='b', label=r' analytical solution of x(t)')\n",
        "\n",
        "plt.plot(t, sol[:, 1], 'g', label=r'z(t)')\n",
        "plt.scatter(t, np.cos(t), c='g', label=r'analytical solution of z(t)')\n",
        "\n",
        "plt.legend(loc='best')\n",
        "plt.xlabel('t')\n",
        "plt.grid()\n",
        "plt.show()"
      ],
      "metadata": {
        "id": "a0vBvNKxe5Ix"
      },
      "execution_count": null,
      "outputs": []
    },
    {
      "cell_type": "markdown",
      "source": [
        "## 3) Solving mass-spring with using Deep Euler Method\n",
        "\n",
        "\n",
        "---\n",
        "\n"
      ],
      "metadata": {
        "id": "yHEl5ClL1Nfd"
      }
    },
    {
      "cell_type": "code",
      "source": [
        "!pip install git+https://github.com/titu1994/tfdiffeq"
      ],
      "metadata": {
        "id": "1OCSXGWeSq8N"
      },
      "execution_count": null,
      "outputs": []
    },
    {
      "cell_type": "code",
      "source": [
        "import tensorflow as tf\n",
        "from tfdiffeq.hyper_solvers import HyperEuler"
      ],
      "metadata": {
        "id": "b1qYT1bh1NNN"
      },
      "execution_count": null,
      "outputs": []
    },
    {
      "cell_type": "code",
      "source": [
        "# Create a Hyper network that HyperHuen will use as the Solver network `g`\n",
        "\n",
        "class HyperSolverModule(tf.keras.Model):\n",
        "  def __init__(self, func_input_dim, hidden_dim=64):\n",
        "    super().__init__(dtype='float64')\n",
        "    self.func_input_dim = func_input_dim\n",
        "    \n",
        "    # Input dim isnt used (Keras handled it automatically)\n",
        "    # But for illustration purposes, it is provided\n",
        "    # Computed as ~ dim(y) + dim(dy) + 1 (for time axis)\n",
        "    self.input_dim = 2 * func_input_dim + 1\n",
        "    self.hidden_dim = hidden_dim\n",
        "    self.output_dim = func_input_dim\n",
        "\n",
        "    self.g = tf.keras.Sequential([\n",
        "        tf.keras.layers.Dense(self.hidden_dim),\n",
        "        tf.keras.layers.PReLU(),\n",
        "        tf.keras.layers.Dense(self.hidden_dim),\n",
        "        tf.keras.layers.PReLU(),\n",
        "        tf.keras.layers.Dense(self.hidden_dim),\n",
        "        tf.keras.layers.PReLU(),\n",
        "        tf.keras.layers.Dense(self.output_dim)\n",
        "    ])\n",
        "    \n",
        "  @tf.function\n",
        "  def call(self, x):\n",
        "    return self.g(x)\n",
        "\n",
        "# Assume we use Lorenz Attractor as the ODE we want to model - `f`\n",
        "\n",
        "#f = Lorenz(sigma, beta, rho)\n",
        "g = HyperSolverModule(func_input_dim=3, hidden_dim=64)\n",
        "\n",
        "hyper_euler = HyperEuler(g)"
      ],
      "metadata": {
        "id": "-RZ6FUyk9EqS"
      },
      "execution_count": null,
      "outputs": []
    },
    {
      "cell_type": "markdown",
      "source": [
        "## Differential equation of simple pendulum\n",
        "\n",
        "\n",
        "---\n",
        "\n",
        "\n",
        "The differential equation of simple pendulum is\n",
        "\\begin{align*}\n",
        "                    F(\\theta, t) = \\frac{d^2\\theta}{dt^2}+sin(\\theta)=0.\n",
        "\\end{align*}\n",
        "This equation is also second order differential equation. The initial values of the problem are\n",
        "\\begin{align*}\n",
        "                    t_0 = 0\\text{ , }\\theta_0 = 0.5 \\text{ and } \\frac{d\\theta}{dt}|_{t=0} = 0.\n",
        "\\end{align*}\n",
        "\n",
        "The analytical solution is\n",
        "\n",
        "\\begin{align*}\n",
        "                    \\theta(t) = \\theta_0 cos(t).\n",
        "\\end{align*}\n",
        "\n",
        "\n",
        "---\n",
        "\n"
      ],
      "metadata": {
        "id": "IYfKvL5lQrrv"
      }
    },
    {
      "cell_type": "markdown",
      "source": [
        "## 1) Solving simple pendulum with using neurodiffeq \n",
        "\n",
        "\n",
        "---\n",
        "\n"
      ],
      "metadata": {
        "id": "XqtvmZfzYbTn"
      }
    },
    {
      "cell_type": "code",
      "source": [
        "!pip install neurodiffeq        #Firs we need to install neurodiffeq modüle\n",
        "import numpy as np\n",
        "import matplotlib.pyplot as plt\n",
        "\n",
        "\n",
        "from neurodiffeq import diff      \n",
        "from neurodiffeq.ode import solve \n",
        "from neurodiffeq.conditions import IVP "
      ],
      "metadata": {
        "id": "NLOCQy6HYe2I"
      },
      "execution_count": null,
      "outputs": []
    },
    {
      "cell_type": "code",
      "source": [
        "import torch\n",
        "simple_pendulum = lambda u, t: diff(u, t, order=2) + torch.sin(u)\n",
        "init_val = IVP(t_0=0.0, u_0=0.5, u_0_prime=0.0)"
      ],
      "metadata": {
        "id": "EzZkqv-sYkku"
      },
      "execution_count": null,
      "outputs": []
    },
    {
      "cell_type": "code",
      "source": [
        "from neurodiffeq.monitors import Monitor1D"
      ],
      "metadata": {
        "id": "IQaPWeaiYmsn"
      },
      "execution_count": null,
      "outputs": []
    },
    {
      "cell_type": "code",
      "source": [
        "solution, _ = solve(\n",
        "    ode=simple_pendulum, condition=init_val, t_min=0.0, t_max=2*np.pi,\n",
        "    max_epochs=3000,\n",
        "    monitor=Monitor1D(t_min=0.0, t_max=2*np.pi, check_every=100)\n",
        ")"
      ],
      "metadata": {
        "id": "Vz-uyicMYpLO"
      },
      "execution_count": null,
      "outputs": []
    },
    {
      "cell_type": "code",
      "source": [
        "ts = np.linspace(0, 2*np.pi, 50)\n",
        "x_net = solution(ts, to_numpy=True)\n",
        "x_ana = 0.5*np.cos(ts)\n",
        "\n",
        "plt.figure()\n",
        "plt.plot(ts, x_net, label='ANN-based solution')\n",
        "plt.plot(ts, x_ana, '.', label='analytical solution')\n",
        "plt.ylabel(r'$\\theta$')\n",
        "plt.xlabel('t')\n",
        "plt.title('comparing solutions')\n",
        "plt.legend()\n",
        "plt.show()"
      ],
      "metadata": {
        "id": "RABso_QgYre3"
      },
      "execution_count": null,
      "outputs": []
    },
    {
      "cell_type": "markdown",
      "source": [
        "## 2) Solving simple pendulum with using Runge-Kutta\n",
        "\n",
        "\n",
        "---\n"
      ],
      "metadata": {
        "id": "OACulwylDyq9"
      }
    },
    {
      "cell_type": "markdown",
      "source": [
        "Our differential equation was\n",
        "\\begin{align*}\n",
        "                    F(\\theta, t) = \\frac{d^2\\theta}{dt^2}+sin(\\theta)=0.\n",
        "\\end{align*}\n",
        "Here, we need to reduce the order of differential equation. For this purpose,\n",
        "\n",
        "\\begin{align*}\n",
        "                    \\text{if }z(t) = \\theta'(t) \\text{ then } z'(t) = \\theta''(t).\n",
        "\\end{align*}\n",
        "\n",
        "As a result, we have 2 equations.\n",
        "\n",
        "\\begin{cases}\n",
        "                    \\theta'(t) = z(t) \\\\\n",
        "                    z'(t) = - sin(\\theta)\n",
        "\\end{cases}\n",
        "\n",
        "Vectorially,  if  $y(t)=[\\theta(t), z(t)]$ , then the equation is  $y′(t)=f(t,y)$  where $f(t,y) = [z(t), -sin(\\theta)]$.\n",
        "\n",
        "The analytical solutions are\n",
        "\\begin{cases}\n",
        "                    \\theta(t) = sin(t) \\\\\n",
        "                    z(t) = cos(t)\n",
        "\\end{cases}"
      ],
      "metadata": {
        "id": "aV0dWK9sD2im"
      }
    },
    {
      "cell_type": "code",
      "source": [
        "from scipy.integrate import odeint # odeint module has Runge-kutta methods\n",
        "import numpy as np\n",
        "import matplotlib.pyplot as plt"
      ],
      "metadata": {
        "id": "MAP3HJ_2Gx_t"
      },
      "execution_count": null,
      "outputs": []
    },
    {
      "cell_type": "code",
      "source": [
        "def simple_pendulum(y, t):\n",
        "    return np.array([y[1], -np.sin(t)])\n",
        "\n",
        "y0 = np.array([0 , 1.0])\n",
        "\n",
        "t = np.linspace(0, 2*np.pi, 51)\n",
        "\n",
        "sol = odeint(simple_pendulum, y0, t)"
      ],
      "metadata": {
        "id": "nUvKRR8kG25t"
      },
      "execution_count": null,
      "outputs": []
    },
    {
      "cell_type": "code",
      "source": [
        "plt.plot(t, sol[:, 0], 'b', label=r'$\\theta$(t)')\n",
        "plt.scatter(t, np.sin(t), c='b', label=r' analytical solution of $\\theta$(t)')\n",
        "\n",
        "plt.plot(t, sol[:, 1], 'g', label=r'z(t)')\n",
        "plt.scatter(t, np.cos(t), c='g', label=r'analytical solution of z(t)')\n",
        "\n",
        "plt.legend(loc='best')\n",
        "plt.xlabel('t')\n",
        "plt.grid()\n",
        "plt.show()"
      ],
      "metadata": {
        "id": "DxmhPKe_G6iD"
      },
      "execution_count": null,
      "outputs": []
    }
  ]
}